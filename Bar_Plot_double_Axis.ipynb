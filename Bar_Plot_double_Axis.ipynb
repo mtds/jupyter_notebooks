{
 "cells": [
  {
   "cell_type": "code",
   "execution_count": 2,
   "metadata": {},
   "outputs": [
    {
     "data": {
      "image/png": "[encoded data removed]",
      "text/plain": [
       "<Figure size 432x288 with 2 Axes>"
      ]
     },
     "metadata": {},
     "output_type": "display_data"
    }
   ],
   "source": [
    "#\n",
    "# Pandas: Bar-Plot with two bars and two y-axis.\n",
    "#\n",
    "# Reference: https://stackoverflow.com/questions/24183101/pandas-bar-plot-with-two-bars-and-two-y-axis\n",
    "#\n",
    "\n",
    "import matplotlib.pyplot as plt\n",
    "import numpy as np\n",
    "import pandas as pd\n",
    "from io import StringIO\n",
    "\n",
    "s = StringIO(\"\"\"     amount     price\n",
    "A     40929   4066443\n",
    "B     93904   9611272\n",
    "C    188349  19360005\n",
    "D    248438  24335536\n",
    "E    205622  18888604\n",
    "F    140173  12580900\n",
    "G     76243   6751731\n",
    "H     36859   3418329\n",
    "I     29304   2758928\n",
    "J     39768   3201269\n",
    "K     30350   2867059\"\"\")\n",
    "\n",
    "df = pd.read_csv(s, index_col=0, delimiter=' ', skipinitialspace=True)\n",
    "\n",
    "fig = plt.figure() # Create matplotlib figure\n",
    "\n",
    "ax = fig.add_subplot(111) # Create matplotlib axes\n",
    "ax2 = ax.twinx() # Create another axes that shares the same x-axis as ax.\n",
    "\n",
    "width = 0.4\n",
    "\n",
    "df.amount.plot(kind='bar', color='red', ax=ax, width=width, position=1)\n",
    "df.price.plot(kind='bar', color='blue', ax=ax2, width=width, position=0)\n",
    "\n",
    "ax.set_ylabel('Amount')\n",
    "ax2.set_ylabel('Price')\n",
    "\n",
    "plt.show()"
   ]
  },
  {
   "cell_type": "code",
   "execution_count": null,
   "metadata": {},
   "outputs": [],
   "source": []
  }
 ],
 "metadata": {
  "kernelspec": {
   "display_name": "Python 3",
   "language": "python",
   "name": "python3"
  },
  "language_info": {
   "codemirror_mode": {
    "name": "ipython",
    "version": 3
   },
   "file_extension": ".py",
   "mimetype": "text/x-python",
   "name": "python",
   "nbconvert_exporter": "python",
   "pygments_lexer": "ipython3",
   "version": "3.6.5"
  }
 },
 "nbformat": 4,
 "nbformat_minor": 2
}
